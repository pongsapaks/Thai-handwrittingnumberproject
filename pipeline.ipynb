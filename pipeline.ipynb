{
 "cells": [
  {
   "cell_type": "code",
   "execution_count": 16,
   "metadata": {},
   "outputs": [],
   "source": [
    "import cv2\n",
    "from PIL import Image, ImageOps\n",
    "import os\n",
    "import numpy as np\n",
    "import pandas as pd\n",
    "import pickle\n",
    "from tensorflow.keras.preprocessing.image import img_to_array, load_img, array_to_img\n",
    "import subprocess\n",
    "import math\n",
    "from sklearn.ensemble import RandomForestClassifier\n",
    "from sklearn.metrics import accuracy_score\n",
    "from sklearn.model_selection import train_test_split\n",
    "\n",
    "# Clone the GitHub repository to a local directory\n",
    "repo_url = \"https://github.com/pongsapaks/Thai-handwrittingnumberproject.git\"\n",
    "repo_dir = \"Thai-handwrittingnumberproject\"\n",
    "subprocess.run([\"git\", \"clone\", repo_url, repo_dir])\n",
    "\n",
    "image_dir = os.path.join(repo_dir, \"raw\")\n",
    "desired_width = 28\n",
    "desired_height = 28\n",
    "\n",
    "# Fetch all image files within the directory and its subfolders\n",
    "image_files = []\n",
    "for root, dirs, files in os.walk(image_dir):\n",
    "    for file in files:\n",
    "        if file.endswith((\".jpg\", \".jpeg\", \".png\")):\n",
    "            image_files.append(os.path.join(root, file))\n",
    "\n",
    "# Initialize lists to store the image data and labels\n",
    "X = []\n",
    "Y = []\n",
    "\n",
    "#Prepare the dataset\n",
    "def make_dataset():\n",
    "    #global X, Y  # Declare X and Y as global variables\n",
    "    \n",
    "    for image_path in image_files:\n",
    "        img = cv2.imread(image_path)\n",
    "        \n",
    "        # Skip empty or invalid images\n",
    "        if img is None:\n",
    "            #print(f\"Failed to read image: {image_path}\")\n",
    "            continue\n",
    "        \n",
    "        img = cv2.resize(img, (desired_width, desired_height))\n",
    "        if img.ndim == 2:  # Grayscale image\n",
    "            img = Image.fromarray(img)\n",
    "        elif img.ndim == 3:  # Color image\n",
    "            img = cv2.cvtColor(img, cv2.COLOR_BGR2RGB)\n",
    "            img = Image.fromarray(img)\n",
    "        else:\n",
    "            print(f\"Invalid image format: {image_path}\")\n",
    "            continue\n",
    "        \n",
    "        img = ImageOps.invert(img)\n",
    "        category = os.path.basename(os.path.dirname(image_path))\n",
    "        X.append(np.array(img) / 255.0)  # Convert to numpy array and normalize\n",
    "        Y.append(category)\n",
    "\n",
    "    # Convert the lists to numpy arrays for further processing\n",
    "    X = np.array(X)  # X = image\n",
    "    Y = np.array(Y)  # Y = labels\n",
    "    data = {\"X\": X, \"Y\": Y}\n",
    "    pickle.dump(data, open(\"thainumber_{}.pkl\".format(desired_width), \"wb\"), protocol=2)\n",
    "\n",
    "def load_dataset(size=28):\n",
    "    data = pickle.load(open(\"thainumber_{}.pkl\".format(size), \"rb\"))\n",
    "    X = data['X']\n",
    "    Y = data['Y']\n",
    "    return X, Y\n",
    "\n",
    "def prepare_input(file):\n",
    "    img = load_img(file, grayscale=True, target_size=(28, 28))\n",
    "    img = ImageOps.invert(img)\n",
    "    x = img_to_array(img)\n",
    "    return x\n",
    "\n",
    "def img_cloud_dataset(size=28):\n",
    "    X, Y = load_dataset(size)\n",
    "    x = 0\n",
    "    y = 0\n",
    "    new_im = Image.new('L', (size * 50, size * math.ceil(X.shape[0] / 50)))\n",
    "    for i in range(0, X.shape[0]):\n",
    "        if (i != 0 and i % 50 == 0):\n",
    "            y += size\n",
    "            x = 0\n",
    "\n",
    "        img = np.expand_dims(X[i], axis=-1)  # Add channel dimension\n",
    "        if img.ndim == 2:  # Grayscale image\n",
    "            img = np.concatenate([img] * 3, axis=-1)  # Convert to 3 channels\n",
    "        elif img.ndim == 3 and img.shape[2] == 1:  # Grayscale image with channel dimension\n",
    "            img = np.concatenate([img] * 3, axis=-1)  # Convert to 3 channels\n",
    "        elif img.ndim == 3 and img.shape[2] == 3:  # Color image with 3 channels\n",
    "            pass  # No conversion needed\n",
    "        else:\n",
    "            #print(f\"Invalid image format: {image_path}\")\n",
    "            continue\n",
    "\n",
    "        im = array_to_img(img)\n",
    "        new_im.paste(im, (x, y))\n",
    "        x += size\n",
    "    return new_im\n",
    "\n",
    "# Save the image cloud dataset\n",
    "new_im = img_cloud_dataset(desired_width)\n",
    "new_im.save(\"cloud_dataset_{}.png\".format(desired_width))"
   ]
  },
  {
   "cell_type": "code",
   "execution_count": 17,
   "metadata": {},
   "outputs": [],
   "source": [
    "def train_model(X, Y):\n",
    "    # Split the dataset into training and validation sets\n",
    "    X_train, X_val, Y_train, Y_val = train_test_split(X, Y, test_size=0.2, random_state=42)\n",
    "\n",
    "    # Reshape the input data for Random Forest classifier\n",
    "    X_train = X_train.reshape(X_train.shape[0], -1)\n",
    "    X_val = X_val.reshape(X_val.shape[0], -1)\n",
    "\n",
    "    # Initialize the Random Forest classifier\n",
    "    clf = RandomForestClassifier(n_estimators=100, random_state=42)\n",
    "\n",
    "    # Train the classifier\n",
    "    clf.fit(X_train, Y_train)\n",
    "\n",
    "    # Make predictions on the validation set\n",
    "    Y_pred = clf.predict(X_val)\n",
    "\n",
    "     # Calculate the accuracy of the model\n",
    "    accuracy = (Y_pred == Y_val).mean()\n",
    "    print(\"Validation Accuracy:\", accuracy)"
   ]
  },
  {
   "cell_type": "code",
   "execution_count": 18,
   "metadata": {},
   "outputs": [],
   "source": [
    "X, Y = load_dataset(desired_width)"
   ]
  },
  {
   "cell_type": "code",
   "execution_count": 19,
   "metadata": {},
   "outputs": [],
   "source": [
    "from sklearn.model_selection import train_test_split\n",
    "\n",
    "X_train, X_test, Y_train, Y_test = train_test_split(X, Y, test_size=0.2, random_state=42)\n"
   ]
  },
  {
   "cell_type": "code",
   "execution_count": 20,
   "metadata": {},
   "outputs": [
    {
     "data": {
      "text/plain": [
       "<matplotlib.image.AxesImage at 0x23ee366fd90>"
      ]
     },
     "execution_count": 20,
     "metadata": {},
     "output_type": "execute_result"
    },
    {
     "data": {
      "image/png": "[encoded data removed]",
      "text/plain": [
       "<Figure size 640x480 with 1 Axes>"
      ]
     },
     "metadata": {},
     "output_type": "display_data"
    }
   ],
   "source": [
    "import matplotlib.pyplot as plt\n",
    "plt.imshow(X[1], cmap='gray', vmin=0, vmax=255)"
   ]
  },
  {
   "cell_type": "code",
   "execution_count": 33,
   "metadata": {},
   "outputs": [
    {
     "name": "stdout",
     "output_type": "stream",
     "text": [
      "Dash is running on http://127.0.0.1:8050/\n",
      "\n",
      " * Serving Flask app '__main__'\n",
      " * Debug mode: on\n"
     ]
    },
    {
     "ename": "SystemExit",
     "evalue": "1",
     "output_type": "error",
     "traceback": [
      "An exception has occurred, use %tb to see the full traceback.\n",
      "\u001b[1;31mSystemExit\u001b[0m\u001b[1;31m:\u001b[0m 1\n"
     ]
    },
    {
     "name": "stderr",
     "output_type": "stream",
     "text": [
      "c:\\Users\\Karuntarat\\AppData\\Local\\Programs\\Python\\Python310\\lib\\site-packages\\IPython\\core\\interactiveshell.py:3441: UserWarning: To exit: use 'exit', 'quit', or Ctrl-D.\n",
      "  warn(\"To exit: use 'exit', 'quit', or Ctrl-D.\", stacklevel=1)\n"
     ]
    }
   ],
   "source": [
    "import dash\n",
    "import dash_core_components as dcc\n",
    "import dash_html_components as html\n",
    "from dash.dependencies import Input, Output\n",
    "import cv2\n",
    "import numpy as np\n",
    "import pickle\n",
    "\n",
    "model = pickle.load(open(\"thainumber_28.pkl\", \"rb\"))\n",
    "app = dash.Dash(__name__)\n",
    "\n",
    "app.layout = html.Div(\n",
    "    children=[\n",
    "        html.H1(\"Thai Handwritten Number Recognition\"),\n",
    "        dcc.Upload(\n",
    "            id=\"upload-image\",\n",
    "            children=html.Div([\"Drag and Drop or \", html.A(\"Select Image\")]),\n",
    "            style={\n",
    "                \"width\": \"50%\",\n",
    "                \"height\": \"50px\",\n",
    "                \"lineHeight\": \"50px\",\n",
    "                \"borderWidth\": \"1px\",\n",
    "                \"borderStyle\": \"dashed\",\n",
    "                \"borderRadius\": \"5px\",\n",
    "                \"textAlign\": \"center\",\n",
    "                \"margin\": \"10px\",\n",
    "            },\n",
    "            multiple=False,\n",
    "        ),\n",
    "        html.Div(id=\"output-prediction\"),\n",
    "    ]\n",
    ")\n",
    "\n",
    "@app.callback(\n",
    "    Output(\"output-prediction\", \"children\"),\n",
    "    [Input(\"upload-image\", \"contents\")],\n",
    ")\n",
    "def predict_number(contents):\n",
    "    if contents is not None:\n",
    "        # Preprocess user input\n",
    "        input_img = prepare_input(contents)\n",
    "\n",
    "        # Make a prediction using the loaded model\n",
    "        prediction = model.predict(input_img)\n",
    "\n",
    "        # Display the prediction\n",
    "        return html.H2(f\"Predicted number: {prediction[0]}\")\n",
    "    else:\n",
    "        return html.Div()\n",
    "    \n",
    "def prepare_input(contents):\n",
    "    content_type, content_string = contents.split(\",\")\n",
    "\n",
    "    # Decode the base64 encoded image\n",
    "    decoded_img = base64.b64decode(content_string)\n",
    "\n",
    "    # Convert the image to numpy array\n",
    "    img_array = np.frombuffer(decoded_img, np.uint8)\n",
    "\n",
    "    # Read the image using OpenCV\n",
    "    img = cv2.imdecode(img_array, cv2.IMREAD_GRAYSCALE)\n",
    "\n",
    "    # Preprocess the image\n",
    "    img = cv2.resize(img, (28, 28))\n",
    "    img = img.reshape(1, -1).astype(np.float32) / 255.0\n",
    "\n",
    "    return img\n",
    "\n",
    "if __name__ == '__main__':\n",
    "    app.run_server(debug=True)"
   ]
  },
  {
   "cell_type": "code",
   "execution_count": 34,
   "metadata": {},
   "outputs": [
    {
     "ename": "SystemExit",
     "evalue": "1",
     "output_type": "error",
     "traceback": [
      "\u001b[1;31m---------------------------------------------------------------------------\u001b[0m",
      "\u001b[1;31mSystemExit\u001b[0m                                Traceback (most recent call last)",
      "Cell \u001b[1;32mIn[33], line 70\u001b[0m\n\u001b[0;32m     67\u001b[0m     \u001b[39mreturn\u001b[39;00m img\n\u001b[0;32m     69\u001b[0m \u001b[39mif\u001b[39;00m \u001b[39m__name__\u001b[39m \u001b[39m==\u001b[39m \u001b[39m'\u001b[39m\u001b[39m__main__\u001b[39m\u001b[39m'\u001b[39m:\n\u001b[1;32m---> 70\u001b[0m     app\u001b[39m.\u001b[39;49mrun_server(debug\u001b[39m=\u001b[39;49m\u001b[39mTrue\u001b[39;49;00m)\n",
      "File \u001b[1;32mc:\\Users\\Karuntarat\\AppData\\Local\\Programs\\Python\\Python310\\lib\\site-packages\\dash\\dash.py:2129\u001b[0m, in \u001b[0;36mDash.run_server\u001b[1;34m(self, *args, **kwargs)\u001b[0m\n\u001b[0;32m   2123\u001b[0m \u001b[39mdef\u001b[39;00m \u001b[39mrun_server\u001b[39m(\u001b[39mself\u001b[39m, \u001b[39m*\u001b[39margs, \u001b[39m*\u001b[39m\u001b[39m*\u001b[39mkwargs):\n\u001b[0;32m   2124\u001b[0m     \u001b[39m\"\"\"`run_server` is a deprecated alias of `run` and may be removed in a\u001b[39;00m\n\u001b[0;32m   2125\u001b[0m \u001b[39m    future version. We recommend using `app.run` instead.\u001b[39;00m\n\u001b[0;32m   2126\u001b[0m \n\u001b[0;32m   2127\u001b[0m \u001b[39m    See `app.run` for usage information.\u001b[39;00m\n\u001b[0;32m   2128\u001b[0m \u001b[39m    \"\"\"\u001b[39;00m\n\u001b[1;32m-> 2129\u001b[0m     \u001b[39mself\u001b[39m\u001b[39m.\u001b[39mrun(\u001b[39m*\u001b[39margs, \u001b[39m*\u001b[39m\u001b[39m*\u001b[39mkwargs)\n",
      "File \u001b[1;32mc:\\Users\\Karuntarat\\AppData\\Local\\Programs\\Python\\Python310\\lib\\site-packages\\dash\\dash.py:1989\u001b[0m, in \u001b[0;36mDash.run\u001b[1;34m(self, host, port, proxy, debug, dev_tools_ui, dev_tools_props_check, dev_tools_serve_dev_bundles, dev_tools_hot_reload, dev_tools_hot_reload_interval, dev_tools_hot_reload_watch_interval, dev_tools_hot_reload_max_retry, dev_tools_silence_routes_logging, dev_tools_prune_errors, **flask_run_options)\u001b[0m\n\u001b[0;32m   1986\u001b[0m         \u001b[39melif\u001b[39;00m os\u001b[39m.\u001b[39mpath\u001b[39m.\u001b[39misfile(path):\n\u001b[0;32m   1987\u001b[0m             extra_files\u001b[39m.\u001b[39mappend(path)\n\u001b[1;32m-> 1989\u001b[0m \u001b[39mself\u001b[39m\u001b[39m.\u001b[39mserver\u001b[39m.\u001b[39mrun(host\u001b[39m=\u001b[39mhost, port\u001b[39m=\u001b[39mport, debug\u001b[39m=\u001b[39mdebug, \u001b[39m*\u001b[39m\u001b[39m*\u001b[39mflask_run_options)\n",
      "File \u001b[1;32mc:\\Users\\Karuntarat\\AppData\\Local\\Programs\\Python\\Python310\\lib\\site-packages\\flask\\app.py:889\u001b[0m, in \u001b[0;36mFlask.run\u001b[1;34m(self, host, port, debug, load_dotenv, **options)\u001b[0m\n\u001b[0;32m    886\u001b[0m \u001b[39mfrom\u001b[39;00m \u001b[39mwerkzeug\u001b[39;00m\u001b[39m.\u001b[39;00m\u001b[39mserving\u001b[39;00m \u001b[39mimport\u001b[39;00m run_simple\n\u001b[0;32m    888\u001b[0m \u001b[39mtry\u001b[39;00m:\n\u001b[1;32m--> 889\u001b[0m     run_simple(t\u001b[39m.\u001b[39mcast(\u001b[39mstr\u001b[39m, host), port, \u001b[39mself\u001b[39m, \u001b[39m*\u001b[39m\u001b[39m*\u001b[39moptions)\n\u001b[0;32m    890\u001b[0m \u001b[39mfinally\u001b[39;00m:\n\u001b[0;32m    891\u001b[0m     \u001b[39m# reset the first request information if the development server\u001b[39;00m\n\u001b[0;32m    892\u001b[0m     \u001b[39m# reset normally.  This makes it possible to restart the server\u001b[39;00m\n\u001b[0;32m    893\u001b[0m     \u001b[39m# without reloader and that stuff from an interactive shell.\u001b[39;00m\n\u001b[0;32m    894\u001b[0m     \u001b[39mself\u001b[39m\u001b[39m.\u001b[39m_got_first_request \u001b[39m=\u001b[39m \u001b[39mFalse\u001b[39;00m\n",
      "File \u001b[1;32mc:\\Users\\Karuntarat\\AppData\\Local\\Programs\\Python\\Python310\\lib\\site-packages\\werkzeug\\serving.py:1097\u001b[0m, in \u001b[0;36mrun_simple\u001b[1;34m(hostname, port, application, use_reloader, use_debugger, use_evalex, extra_files, exclude_patterns, reloader_interval, reloader_type, threaded, processes, request_handler, static_files, passthrough_errors, ssl_context)\u001b[0m\n\u001b[0;32m   1094\u001b[0m \u001b[39mfrom\u001b[39;00m \u001b[39m.\u001b[39;00m\u001b[39m_reloader\u001b[39;00m \u001b[39mimport\u001b[39;00m run_with_reloader\n\u001b[0;32m   1096\u001b[0m \u001b[39mtry\u001b[39;00m:\n\u001b[1;32m-> 1097\u001b[0m     run_with_reloader(\n\u001b[0;32m   1098\u001b[0m         srv\u001b[39m.\u001b[39;49mserve_forever,\n\u001b[0;32m   1099\u001b[0m         extra_files\u001b[39m=\u001b[39;49mextra_files,\n\u001b[0;32m   1100\u001b[0m         exclude_patterns\u001b[39m=\u001b[39;49mexclude_patterns,\n\u001b[0;32m   1101\u001b[0m         interval\u001b[39m=\u001b[39;49mreloader_interval,\n\u001b[0;32m   1102\u001b[0m         reloader_type\u001b[39m=\u001b[39;49mreloader_type,\n\u001b[0;32m   1103\u001b[0m     )\n\u001b[0;32m   1104\u001b[0m \u001b[39mfinally\u001b[39;00m:\n\u001b[0;32m   1105\u001b[0m     srv\u001b[39m.\u001b[39mserver_close()\n",
      "File \u001b[1;32mc:\\Users\\Karuntarat\\AppData\\Local\\Programs\\Python\\Python310\\lib\\site-packages\\werkzeug\\_reloader.py:456\u001b[0m, in \u001b[0;36mrun_with_reloader\u001b[1;34m(main_func, extra_files, exclude_patterns, interval, reloader_type)\u001b[0m\n\u001b[0;32m    454\u001b[0m             reloader\u001b[39m.\u001b[39mrun()\n\u001b[0;32m    455\u001b[0m     \u001b[39melse\u001b[39;00m:\n\u001b[1;32m--> 456\u001b[0m         sys\u001b[39m.\u001b[39;49mexit(reloader\u001b[39m.\u001b[39;49mrestart_with_reloader())\n\u001b[0;32m    457\u001b[0m \u001b[39mexcept\u001b[39;00m \u001b[39mKeyboardInterrupt\u001b[39;00m:\n\u001b[0;32m    458\u001b[0m     \u001b[39mpass\u001b[39;00m\n",
      "\u001b[1;31mSystemExit\u001b[0m: 1"
     ]
    }
   ],
   "source": [
    "%tb"
   ]
  }
 ],
 "metadata": {
  "kernelspec": {
   "display_name": "Python 3",
   "language": "python",
   "name": "python3"
  },
  "language_info": {
   "codemirror_mode": {
    "name": "ipython",
    "version": 3
   },
   "file_extension": ".py",
   "mimetype": "text/x-python",
   "name": "python",
   "nbconvert_exporter": "python",
   "pygments_lexer": "ipython3",
   "version": "3.10.6"
  },
  "orig_nbformat": 4
 },
 "nbformat": 4,
 "nbformat_minor": 2
}
