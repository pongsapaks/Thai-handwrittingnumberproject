{
 "cells": [
  {
   "cell_type": "code",
   "execution_count": 120,
   "metadata": {},
   "outputs": [],
   "source": [
    "import cv2\n",
    "from PIL import Image, ImageOps\n",
    "import os\n",
    "import numpy as np\n",
    "import pandas as pd\n",
    "import pickle\n",
    "from tensorflow.keras.preprocessing.image import img_to_array, load_img, array_to_img\n",
    "import subprocess\n",
    "import math\n",
    "\n",
    "# Clone the GitHub repository to a local directory\n",
    "repo_url = \"https://github.com/pongsapaks/Thai-handwrittingnumberproject.git\"\n",
    "repo_dir = \"Thai-handwrittingnumberproject\"\n",
    "subprocess.run([\"git\", \"clone\", repo_url, repo_dir])\n",
    "\n",
    "image_dir = os.path.join(repo_dir, \"raw\")\n",
    "desired_width = 28\n",
    "desired_height = 28\n",
    "\n",
    "# Fetch all image files within the directory and its subfolders\n",
    "image_files = []\n",
    "for root, dirs, files in os.walk(image_dir):\n",
    "    for file in files:\n",
    "        if file.endswith((\".jpg\", \".jpeg\", \".png\")):\n",
    "            image_files.append(os.path.join(root, file))\n",
    "\n",
    "# Initialize lists to store the image data and labels\n",
    "X = []\n",
    "Y = []\n",
    "\n",
    "def make_dataset():\n",
    "    global X, Y  # Declare X and Y as global variables\n",
    "    \n",
    "    for image_path in image_files:\n",
    "        img = cv2.imread(image_path)\n",
    "        \n",
    "        # Skip empty or invalid images\n",
    "        if img is None:\n",
    "            #print(f\"Failed to read image: {image_path}\")\n",
    "            continue\n",
    "        \n",
    "        img = cv2.resize(img, (desired_width, desired_height))\n",
    "        if img.ndim == 2:  # Grayscale image\n",
    "            img = Image.fromarray(img)\n",
    "        elif img.ndim == 3:  # Color image\n",
    "            img = cv2.cvtColor(img, cv2.COLOR_BGR2RGB)\n",
    "            img = Image.fromarray(img)\n",
    "        else:\n",
    "            print(f\"Invalid image format: {image_path}\")\n",
    "            continue\n",
    "        \n",
    "        img = ImageOps.invert(img)\n",
    "        category = os.path.basename(os.path.dirname(image_path))\n",
    "        X.append(np.array(img) / 255.0)  # Convert to numpy array and normalize\n",
    "        Y.append(category)\n",
    "\n",
    "    # Convert the lists to numpy arrays for further processing\n",
    "    X = np.array(X)  # X = image\n",
    "    Y = np.array(Y)  # Y = labels\n",
    "    data = {\"X\": X, \"Y\": Y}\n",
    "    pickle.dump(data, open(\"thainumber_{}.pkl\".format(desired_width), \"wb\"), protocol=2)\n",
    "\n",
    "def load_dataset(size=28):\n",
    "    data = pickle.load(open(\"thainumber_{}.pkl\".format(size), \"rb\"))\n",
    "    X = data['X']\n",
    "    Y = data['Y']\n",
    "    return X, Y\n",
    "\n",
    "def prepare_input(file):\n",
    "    img = load_img(file, grayscale=True, target_size=(28, 28))\n",
    "    img = ImageOps.invert(img)\n",
    "    x = img_to_array(img)\n",
    "    return x\n",
    "\n",
    "def img_cloud_dataset(size=28):\n",
    "    X, Y = load_dataset(size)\n",
    "    x = 0\n",
    "    y = 0\n",
    "    new_im = Image.new('L', (size * 50, size * math.ceil(X.shape[0] / 50)))\n",
    "    for i in range(0, X.shape[0]):\n",
    "        if (i != 0 and i % 50 == 0):\n",
    "            y += size\n",
    "            x = 0\n",
    "\n",
    "        img = np.expand_dims(X[i], axis=-1)  # Add channel dimension\n",
    "        if img.ndim == 2:  # Grayscale image\n",
    "            img = np.concatenate([img] * 3, axis=-1)  # Convert to 3 channels\n",
    "        elif img.ndim == 3 and img.shape[2] == 1:  # Grayscale image with channel dimension\n",
    "            img = np.concatenate([img] * 3, axis=-1)  # Convert to 3 channels\n",
    "        elif img.ndim == 3 and img.shape[2] == 3:  # Color image with 3 channels\n",
    "            pass  # No conversion needed\n",
    "        else:\n",
    "            #print(f\"Invalid image format: {image_path}\")\n",
    "            continue\n",
    "\n",
    "        im = array_to_img(img)\n",
    "        new_im.paste(im, (x, y))\n",
    "        x += size\n",
    "    return new_im\n",
    "\n",
    "# Save the image cloud dataset\n",
    "new_im = img_cloud_dataset(desired_width)\n",
    "new_im.save(\"cloud_dataset_{}.png\".format(desired_width))"
   ]
  },
  {
   "cell_type": "code",
   "execution_count": 122,
   "metadata": {},
   "outputs": [],
   "source": [
    "X, Y = load_dataset(desired_width)"
   ]
  },
  {
   "cell_type": "code",
   "execution_count": 123,
   "metadata": {},
   "outputs": [],
   "source": [
    "from sklearn.model_selection import train_test_split\n",
    "\n",
    "X_train, X_test, Y_train, Y_test = train_test_split(X, Y, test_size=0.2, random_state=42)\n"
   ]
  },
  {
   "cell_type": "code",
   "execution_count": 114,
   "metadata": {},
   "outputs": [
    {
     "data": {
      "text/plain": [
       "<matplotlib.image.AxesImage at 0x204037b0580>"
      ]
     },
     "execution_count": 114,
     "metadata": {},
     "output_type": "execute_result"
    },
    {
     "data": {
      "image/png": "[encoded data removed]",
      "text/plain": [
       "<Figure size 640x480 with 1 Axes>"
      ]
     },
     "metadata": {},
     "output_type": "display_data"
    }
   ],
   "source": [
    "import matplotlib.pyplot as plt\n",
    "plt.imshow(X[1], cmap='gray', vmin=0, vmax=255)"
   ]
  },
  {
   "cell_type": "code",
   "execution_count": 101,
   "metadata": {},
   "outputs": [
    {
     "data": {
      "text/plain": [
       "array(['1', '1', '1', ..., '9', '9', '9'], dtype='<U2')"
      ]
     },
     "execution_count": 101,
     "metadata": {},
     "output_type": "execute_result"
    }
   ],
   "source": [
    "Y"
   ]
  },
  {
   "cell_type": "code",
   "execution_count": 27,
   "metadata": {},
   "outputs": [
    {
     "data": {
      "text/plain": [
       "<bound method NDFrame.head of    0     1     2     3     4     5     6     7     8     9     ...  \\\n",
       "0  None  None  None  None  None  None  None  None  None  None  ...   \n",
       "1   raw   raw   raw   raw   raw   raw   raw   raw   raw   raw  ...   \n",
       "\n",
       "                                                1795  \\\n",
       "0  [[[255, 255, 255], [255, 255, 255], [255, 255,...   \n",
       "1                                                  9   \n",
       "\n",
       "                                                1796  \\\n",
       "0  [[[255, 255, 255], [255, 255, 255], [255, 255,...   \n",
       "1                                                  9   \n",
       "\n",
       "                                                1797  \\\n",
       "0  [[[255, 255, 255], [255, 255, 255], [255, 255,...   \n",
       "1                                                  9   \n",
       "\n",
       "                                                1798  \\\n",
       "0  [[[255, 255, 255], [255, 255, 255], [255, 255,...   \n",
       "1                                                  9   \n",
       "\n",
       "                                                1799  \\\n",
       "0  [[[255, 255, 255], [255, 255, 255], [255, 255,...   \n",
       "1                                                  9   \n",
       "\n",
       "                                                1800  \\\n",
       "0  [[[255, 255, 255], [255, 255, 255], [255, 255,...   \n",
       "1                                                  9   \n",
       "\n",
       "                                                1801  \\\n",
       "0  [[[255, 255, 255], [255, 255, 255], [255, 255,...   \n",
       "1                                                  9   \n",
       "\n",
       "                                                1802  \\\n",
       "0  [[[255, 255, 255], [255, 255, 255], [255, 255,...   \n",
       "1                                                  9   \n",
       "\n",
       "                                                1803  \\\n",
       "0  [[[255, 255, 255], [255, 255, 255], [255, 255,...   \n",
       "1                                                  9   \n",
       "\n",
       "                                                1804  \n",
       "0  [[[255, 255, 255], [255, 255, 255], [255, 255,...  \n",
       "1                                                  9  \n",
       "\n",
       "[2 rows x 1805 columns]>"
      ]
     },
     "execution_count": 27,
     "metadata": {},
     "output_type": "execute_result"
    }
   ],
   "source": [
    "df = pd.DataFrame(dataset)\n",
    "df.head"
   ]
  }
 ],
 "metadata": {
  "kernelspec": {
   "display_name": "Python 3",
   "language": "python",
   "name": "python3"
  },
  "language_info": {
   "codemirror_mode": {
    "name": "ipython",
    "version": 3
   },
   "file_extension": ".py",
   "mimetype": "text/x-python",
   "name": "python",
   "nbconvert_exporter": "python",
   "pygments_lexer": "ipython3",
   "version": "3.10.6"
  },
  "orig_nbformat": 4
 },
 "nbformat": 4,
 "nbformat_minor": 2
}
