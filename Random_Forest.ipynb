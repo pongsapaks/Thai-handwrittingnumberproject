{
 "cells": [
  {
   "cell_type": "code",
   "execution_count": null,
   "id": "653335f4",
   "metadata": {},
   "outputs": [],
   "source": [
    "from PIL import Image, ImageOps\n",
    "from tensorflow.keras.preprocessing.image import img_to_array, load_img, array_to_img\n",
    "import os\n",
    "import glob\n",
    "import numpy as np\n",
    "import pickle\n",
    "import math\n",
    "import requests\n",
    "from PIL import Image\n",
    "\n",
    "def make_dataset(data_dir= \"C:/Users/wicm/raw2/\", size=28):\n",
    "    X = []\n",
    "    Y = []\n",
    "    \n",
    "    for folder in os.listdir(data_dir):\n",
    "        if os.path.isdir(data_dir + folder) == True:\n",
    "            label = folder\n",
    "            for file in glob.glob(data_dir + folder + \"/*.png\"):\n",
    "                img = load_img(file, grayscale=True, target_size=(size, size))\n",
    "                img = ImageOps.invert(img)\n",
    "                x = img_to_array(img)\n",
    "\n",
    "                X.append(x)\n",
    "                Y.append(label)\n",
    "    X = np.asarray(X)\n",
    "    Y = np.asarray(Y)\n",
    "    data = {\"X\": X, \"Y\": Y};\n",
    "    pickle.dump(data, open(\"thainumber_{}.pkl\".format(size), \"wb\"), protocol = 2)"
   ]
  },
  {
   "cell_type": "code",
   "execution_count": null,
   "id": "55b74b2a",
   "metadata": {},
   "outputs": [],
   "source": [
    "def load_dataset(size = 28):\n",
    "    data = pickle.load(open(\"thainumber_{}.pkl\".format(size), \"rb\"))\n",
    "    X = data['X']\n",
    "    Y = data['Y']\n",
    "    return X, Y\n",
    "\n",
    "def prepare_input(file):\n",
    "    img = load_img(file, grayscale=True, target_size=(28, 28))\n",
    "    img = ImageOps.invert(img)\n",
    "    x = img_to_array(img)\n",
    "    return x\n",
    "\n",
    "def img_cloud_dataset(size = 28):\n",
    "    X, Y = load_dataset(size)\n",
    "    x = 0\n",
    "    y = 0\n",
    "    new_im = Image.new('L', (size * 50, size * math.ceil(X.shape[0] / 50)))\n",
    "    for i in range(0, X.shape[0]):\n",
    "        if (i != 0 and i % 50 == 0):\n",
    "            y += size\n",
    "            x = 0\n",
    "\n",
    "        im = array_to_img(X[i])\n",
    "        new_im.paste(im, (x, y))\n",
    "        x += size\n",
    "    new_im.save(\"cloud_dataset_{}.png\".format(size))"
   ]
  },
  {
   "cell_type": "code",
   "execution_count": null,
   "id": "d1ae8146",
   "metadata": {
    "scrolled": true
   },
   "outputs": [],
   "source": [
    "make_dataset()"
   ]
  },
  {
   "cell_type": "code",
   "execution_count": null,
   "id": "b2c0d396",
   "metadata": {},
   "outputs": [],
   "source": [
    "X,Y = load_dataset()"
   ]
  },
  {
   "cell_type": "code",
   "execution_count": null,
   "id": "f8a2914e",
   "metadata": {
    "scrolled": true
   },
   "outputs": [],
   "source": [
    "X"
   ]
  },
  {
   "cell_type": "code",
   "execution_count": null,
   "id": "8cb31b0f",
   "metadata": {},
   "outputs": [],
   "source": [
    "Y"
   ]
  },
  {
   "cell_type": "code",
   "execution_count": null,
   "id": "9c2bb6a8",
   "metadata": {},
   "outputs": [],
   "source": [
    "import matplotlib.pyplot as plt\n",
    "plt.imshow(X[0], cmap='gray', vmin=0, vmax=255)"
   ]
  },
  {
   "cell_type": "code",
   "execution_count": null,
   "id": "c35a1c9b",
   "metadata": {},
   "outputs": [],
   "source": [
    "#Reshape X to change array to dataframe\n",
    "reshaped_X = X.reshape((X.shape[0], -1))\n",
    "reshaped_X.shape"
   ]
  },
  {
   "cell_type": "code",
   "execution_count": null,
   "id": "f87cc0a3",
   "metadata": {},
   "outputs": [],
   "source": [
    "#Change array to dataframe\n",
    "\n",
    "import pandas as pd\n",
    "Ydf = pd.DataFrame(Y)\n",
    "Xdf = pd.DataFrame(reshaped_X)"
   ]
  },
  {
   "cell_type": "code",
   "execution_count": null,
   "id": "326569e6",
   "metadata": {},
   "outputs": [],
   "source": [
    "Xdf"
   ]
  },
  {
   "cell_type": "code",
   "execution_count": null,
   "id": "0e56fb98",
   "metadata": {},
   "outputs": [],
   "source": [
    "Ydf"
   ]
  },
  {
   "cell_type": "code",
   "execution_count": null,
   "id": "42504a99",
   "metadata": {},
   "outputs": [],
   "source": [
    "#Pycaret\n",
    "\n",
    "from pycaret.classification import *\n",
    "#clf = setup(Xdf, target = Ydf, train_size = 0.8,\n",
    "clf = setup(reshaped_X, target = Y, train_size = 0.8,\n",
    "            numeric_imputation = 'median',\n",
    "            categorical_imputation = 'mode')"
   ]
  },
  {
   "cell_type": "code",
   "execution_count": null,
   "id": "b1c83524",
   "metadata": {},
   "outputs": [],
   "source": [
    "top5_model = compare_models(sort = 'Accuracy', fold = 5, n_select = 5)"
   ]
  },
  {
   "cell_type": "code",
   "execution_count": null,
   "id": "739390ee",
   "metadata": {},
   "outputs": [],
   "source": [
    "#Scree Plot\n",
    "\n",
    "from sklearn.decomposition import PCA\n",
    "pca = PCA(n_components = Xdf.shape[1]) #Maximum component is all features\n",
    "pca.fit_transform(Xdf) #Fitting PCA\n",
    "explain_ratio = pca.explained_variance_ratio_\n",
    "explain_ratio_cum = np.cumsum(pca.explained_variance_ratio_)\n",
    "\n",
    "plt.figure(figsize = (15, 100))\n",
    "ax = plt.axes()\n",
    "ax.set_facecolor('#dfe3e6')\n",
    "plt.grid(color = 'w')\n",
    "plt.xlabel('Number of components')\n",
    "plt.ylabel('variance explained')\n",
    "plt.title('Scree plot')\n",
    "\n",
    "plt.plot(range(1, explain_ratio.shape[0] + 1), explain_ratio, c = 'royalblue', marker = 'o', linewidth = 2.5, label = 'Individual')\n",
    "plt.plot(range(1, explain_ratio.shape[0] + 1), explain_ratio_cum, c = 'firebrick', marker = 'o', linestyle = '--', label = 'Cumulative')\n",
    "\n",
    "for x, ex_ratio, ex_ratio_cum in zip(range(1, explain_ratio.shape[0] + 1),\n",
    "                                     explain_ratio,\n",
    "                                     explain_ratio_cum):\n",
    "    ex_ratio_label = f'{ex_ratio * 100:.2f}%'\n",
    "    plt.annotate(ex_ratio_label, (x, ex_ratio), textcoords = 'offset points',\n",
    "               xytext = (5, 5), ha = 'center')\n",
    "    ex_ratio_cum_label = f'{ex_ratio_cum * 100:.2f}%'\n",
    "    plt.annotate(ex_ratio_cum_label, (x, ex_ratio_cum), textcoords = 'offset points',\n",
    "               xytext = (5, 5), ha = 'center')\n",
    "\n",
    "plt.show()"
   ]
  },
  {
   "cell_type": "code",
   "execution_count": null,
   "id": "d3fa5023",
   "metadata": {},
   "outputs": [],
   "source": [
    "#Standardization\n",
    "X_mean = Xdf.mean()\n",
    "X_std = Xdf.std()\n",
    "Z = (Xdf-X_mean)/X_std\n",
    "Z = Z.fillna(0)\n",
    "Z"
   ]
  },
  {
   "cell_type": "code",
   "execution_count": null,
   "id": "7e19d7cb",
   "metadata": {},
   "outputs": [],
   "source": [
    "#Covariance\n",
    "c = Z.cov()\n",
    "c"
   ]
  },
  {
   "cell_type": "code",
   "execution_count": null,
   "id": "dc4def35",
   "metadata": {},
   "outputs": [],
   "source": [
    "#Eiganvalues & Eiganvectors\n",
    "eiganvalues, eiganvectors = np.linalg.eig(c)\n",
    "print('Eigan Values:\\n', eiganvalues)\n",
    "print('Eigan Values Shape:', eiganvalues.shape)\n",
    "print('Eigan Vectors Shape:', eiganvectors.shape)"
   ]
  },
  {
   "cell_type": "code",
   "execution_count": null,
   "id": "4c769a89",
   "metadata": {},
   "outputs": [],
   "source": [
    "#Explained Variance\n",
    "idx = eiganvalues.argsort()[::-1]\n",
    "eiganvalues = eiganvalues[idx]\n",
    "eiganvectors = eiganvectors[:,idx]\n",
    "\n",
    "explained_var = np.cumsum(eiganvalues)/np.sum(eiganvalues)\n",
    "explained_var"
   ]
  },
  {
   "cell_type": "code",
   "execution_count": null,
   "id": "5413a8de",
   "metadata": {},
   "outputs": [],
   "source": [
    "#Find n for 73% Explained Variance\n",
    "n_components = np.argmax(explained_var >= 0.73) +1\n",
    "n_components"
   ]
  },
  {
   "cell_type": "code",
   "execution_count": null,
   "id": "6f6426e3",
   "metadata": {},
   "outputs": [],
   "source": [
    "#Dataframe to Array แปะไว้เฉยๆยังไม่ใช้\n",
    "Xarray = Xdf.values\n",
    "Xinverse = Xarray.reshape(-1, 28, 28)\n",
    "plt.imshow(Xinverse[0], cmap='gray', vmin=0, vmax=255)"
   ]
  },
  {
   "cell_type": "code",
   "execution_count": null,
   "id": "ab1d29be",
   "metadata": {},
   "outputs": [],
   "source": [
    "#Apply PCA\n",
    "\n",
    "pca = PCA(n_components = 123)\n",
    "pca.fit(Z)\n",
    "X_pca = pca.transform(Z)\n",
    "X_pca\n",
    "#pca_df = pd.DataFrame(X_pca)\n",
    "#pca_df"
   ]
  },
  {
   "cell_type": "code",
   "execution_count": null,
   "id": "1d338060",
   "metadata": {},
   "outputs": [],
   "source": [
    "clf = setup(X_pca, target = Y)"
   ]
  },
  {
   "cell_type": "code",
   "execution_count": null,
   "id": "5e2fc8f4",
   "metadata": {},
   "outputs": [],
   "source": [
    "top5_model = compare_models(sort = 'Accuracy', fold = 5, n_select = 5)"
   ]
  },
  {
   "cell_type": "code",
   "execution_count": null,
   "id": "bc399f94",
   "metadata": {},
   "outputs": [],
   "source": [
    "# Random Forest\n",
    "\n",
    "import matplotlib.pyplot as plt\n",
    "import seaborn as sns\n",
    "from tune_sklearn import TuneSearchCV\n",
    "from sklearn.metrics import accuracy_score, classification_report, confusion_matrix\n",
    "from sklearn.model_selection import train_test_split\n",
    "from sklearn.ensemble import RandomForestClassifier\n",
    "from sklearn.metrics import accuracy_score\n",
    "from sklearn import datasets\n",
    "from scipy.stats import randint"
   ]
  },
  {
   "cell_type": "code",
   "execution_count": null,
   "id": "8818ced5",
   "metadata": {},
   "outputs": [],
   "source": [
    "#Train Test Split\n",
    "X_train, X_test, y_train, y_test = train_test_split(\n",
    "    X_pca, Y, test_size=0.2, random_state=42)"
   ]
  },
  {
   "cell_type": "code",
   "execution_count": null,
   "id": "e17f2233",
   "metadata": {},
   "outputs": [],
   "source": [
    "X_train"
   ]
  },
  {
   "cell_type": "code",
   "execution_count": null,
   "id": "a1839c5c",
   "metadata": {},
   "outputs": [],
   "source": [
    "X_test"
   ]
  },
  {
   "cell_type": "code",
   "execution_count": null,
   "id": "f1087248",
   "metadata": {},
   "outputs": [],
   "source": [
    "y_train"
   ]
  },
  {
   "cell_type": "code",
   "execution_count": null,
   "id": "8e856661",
   "metadata": {},
   "outputs": [],
   "source": [
    "y_test"
   ]
  },
  {
   "cell_type": "code",
   "execution_count": null,
   "id": "ec54bee1",
   "metadata": {},
   "outputs": [],
   "source": [
    "clf = RandomForestClassifier(n_estimators=200, max_depth=None, min_samples_split=2, min_samples_leaf=1, random_state=42)\n",
    "clf.fit(X_train, y_train)\n",
    "\n",
    "y_pred = clf.predict(X_test)\n",
    "\n",
    "accuracy = accuracy_score(y_test, y_pred)\n",
    "print(\"Accuracy:\", accuracy)\n",
    "print(classification_report(y_test, y_pred))"
   ]
  },
  {
   "cell_type": "code",
   "execution_count": null,
   "id": "660337e2",
   "metadata": {},
   "outputs": [],
   "source": [
    "# Random Forest GridSearch\n",
    "\n",
    "from sklearn.model_selection import GridSearchCV\n",
    "param_grid = {\n",
    "    'n_estimators': [50, 100, 200],\n",
    "    'max_depth': [10, 20, None],\n",
    "    'min_samples_split': [2, 5, 10],\n",
    "    'min_samples_leaf': [1, 2, 4],\n",
    "}\n",
    "\n",
    "grid_search = GridSearchCV(RandomForestClassifier(random_state=42), param_grid=param_grid, cv=5)\n",
    "grid_search.fit(X_train, y_train)\n",
    "\n",
    "print('Best parameters:', grid_search.best_params_)\n",
    "print('Best score:', grid_search.best_score_)\n",
    "print(classification_report(y_test, y_pred))"
   ]
  },
  {
   "cell_type": "code",
   "execution_count": null,
   "id": "16d8cf22",
   "metadata": {
    "scrolled": true
   },
   "outputs": [],
   "source": [
    "# Random Forest TuneSearch\n",
    "\n",
    "model = RandomForestClassifier()\n",
    "param_rf = {\n",
    "    'n_estimators': [50, 100, 200],\n",
    "    'max_depth': [10, 20, None],\n",
    "    'min_samples_split': [2, 5, 10],\n",
    "    'min_samples_leaf': [1, 2, 4],\n",
    "}\n",
    "\n",
    "rf = TuneSearchCV(model, param_rf, n_trials=20, scoring=\"accuracy\")\n",
    "rf.fit(X_train, y_train)\n",
    "print(rf.cv_results_)"
   ]
  },
  {
   "cell_type": "code",
   "execution_count": null,
   "id": "9f9e1712",
   "metadata": {},
   "outputs": [],
   "source": [
    "pred = rf.predict(X_test)\n",
    "correct = 0\n",
    "for i in range(len(y_test)):\n",
    "    if pred[i] == y_test[i]:\n",
    "        correct += 1\n",
    "print(\"Accuracy:\", correct / len(pred))"
   ]
  },
  {
   "cell_type": "code",
   "execution_count": null,
   "id": "f1803bdc",
   "metadata": {},
   "outputs": [],
   "source": [
    "y_pred_rf = rf.predict(X_test)\n",
    "print(classification_report(y_test, y_pred_rf))"
   ]
  },
  {
   "cell_type": "code",
   "execution_count": null,
   "id": "af8a1546",
   "metadata": {
    "scrolled": true
   },
   "outputs": [],
   "source": [
    "# PCA Random forest\n",
    "\n",
    "from sklearn.decomposition import PCA\n",
    "from sklearn import metrics\n",
    "\n",
    "def n_component_analysis(n,X_train, y_train, X_val, y_val):\n",
    "\n",
    "    pca = PCA(n_components=n)\n",
    "    print(\"PCA begin with n_components: {}\".format(n))\n",
    "    pca.fit(X_train)\n",
    "\n",
    "    X_train_pca = pca.transform(X_train)\n",
    "    X_val_pca = pca.transform(X_val)\n",
    "\n",
    "\n",
    "    print('Random Forest')\n",
    "    clf = RandomForestClassifier(n_estimators=200, max_depth=None, min_samples_split=2, min_samples_leaf=1)\n",
    "    clf.fit(X_train_pca, y_train)\n",
    "    predictions=clf.predict(X_val_pca)\n",
    "    accuracy = metrics.accuracy_score(y_val,predictions)\n",
    "\n",
    "    print(\"accuracy: {}\".format(accuracy))\n",
    "    return accuracy\n",
    "\n",
    "train_x,test_x,train_y,test_y=train_test_split(Z,Y,test_size=0.20,random_state=42)\n",
    "\n",
    "\n",
    "n_s = np.linspace(0.70, 0.90, num=15)\n",
    "accuracy = []\n",
    "for n in n_s:\n",
    "    tmp = n_component_analysis(n,train_x, train_y, test_x, test_y)\n",
    "    accuracy.append(tmp)\n",
    "\n",
    "plt.figure()\n",
    "plt.plot(n_s,np.array(accuracy),label='Accuracy vs % variance explained')\n",
    "plt.legend()\n",
    "plt.show()"
   ]
  },
  {
   "cell_type": "code",
   "execution_count": null,
   "id": "bd384dbc",
   "metadata": {},
   "outputs": [],
   "source": []
  }
 ],
 "metadata": {
  "kernelspec": {
   "display_name": "Python 3 (ipykernel)",
   "language": "python",
   "name": "python3"
  },
  "language_info": {
   "codemirror_mode": {
    "name": "ipython",
    "version": 3
   },
   "file_extension": ".py",
   "mimetype": "text/x-python",
   "name": "python",
   "nbconvert_exporter": "python",
   "pygments_lexer": "ipython3",
   "version": "3.9.16"
  }
 },
 "nbformat": 4,
 "nbformat_minor": 5
}
